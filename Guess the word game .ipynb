{
 "cells": [
  {
   "cell_type": "code",
   "execution_count": 4,
   "metadata": {},
   "outputs": [
    {
     "name": "stdout",
     "output_type": "stream",
     "text": [
      "Enter the number  greater than 1 according to you : 3\n",
      "Let's play the game  \n",
      "Guess the Number between 1 and 3 :2\n",
      "You are Wrong! Try Again.\n",
      "Guess the Number between 1 and 3 :3\n",
      "Your Guess is Right ! You won the Game in  2  attempt. \n"
     ]
    }
   ],
   "source": [
    "######  Guess the word Game in python:\n",
    "\n",
    "import random as r\n",
    "\n",
    "flag=True\n",
    "\n",
    "while flag:\n",
    "    num=input(\"Enter the number  greater than 1 according to you : \")\n",
    "    if num.isdigit():\n",
    "            n=num\n",
    "            num=int(num)\n",
    "            flag=False\n",
    "            print(\"Let's play the game  \")\n",
    "    else:\n",
    "        print(\"Invalid input type, Please enter a valid number\")\n",
    "    \n",
    "\n",
    "secrete=r.randint(1,num)\n",
    "count=1\n",
    "flag=True\n",
    "while flag:\n",
    "    guess=input(\"Guess the Number between 1 and \"+n+\" :\") \n",
    "    if guess.isdigit():\n",
    "        guess=int(guess)\n",
    "        if guess == secrete:\n",
    "            flag=False\n",
    "            print(\"Your Guess is Right ! You won the Game in \",count,\" attempt. \")\n",
    "        else:\n",
    "            print(\"You are Wrong! Try Again.\") \n",
    "            count+=1\n",
    "    else:\n",
    "        print(guess+\" is not a valid Number, Enter a valid Number. \")\n",
    "        \n",
    "    \n",
    "    "
   ]
  },
  {
   "cell_type": "code",
   "execution_count": null,
   "metadata": {},
   "outputs": [],
   "source": []
  },
  {
   "cell_type": "code",
   "execution_count": null,
   "metadata": {},
   "outputs": [],
   "source": []
  }
 ],
 "metadata": {
  "kernelspec": {
   "display_name": "Python 3",
   "language": "python",
   "name": "python3"
  },
  "language_info": {
   "codemirror_mode": {
    "name": "ipython",
    "version": 3
   },
   "file_extension": ".py",
   "mimetype": "text/x-python",
   "name": "python",
   "nbconvert_exporter": "python",
   "pygments_lexer": "ipython3",
   "version": "3.8.2"
  }
 },
 "nbformat": 4,
 "nbformat_minor": 4
}
