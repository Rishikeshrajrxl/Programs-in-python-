{
 "cells": [
  {
   "cell_type": "code",
   "execution_count": 2,
   "metadata": {},
   "outputs": [
    {
     "ename": "IndentationError",
     "evalue": "unindent does not match any outer indentation level (<tokenize>, line 11)",
     "output_type": "error",
     "traceback": [
      "\u001b[1;36m  File \u001b[1;32m\"<tokenize>\"\u001b[1;36m, line \u001b[1;32m11\u001b[0m\n\u001b[1;33m    else:\u001b[0m\n\u001b[1;37m    ^\u001b[0m\n\u001b[1;31mIndentationError\u001b[0m\u001b[1;31m:\u001b[0m unindent does not match any outer indentation level\n"
     ]
    }
   ],
   "source": [
    "######  Guess the word Game in python:\n",
    "\n",
    "import random as r\n",
    "\n",
    "flag=True\n",
    "\n",
    "while flag:\n",
    "    num=input(\"Enter the number  greater than 1 according to you : \")\n",
    "    if num.isdigit():\n",
    "        print(\"Enter the number grater than 1\")\n",
    "        else:   \n",
    "            n=num\n",
    "            num=int(num)\n",
    "            flag=False\n",
    "            print(\"Let's play the game  \")\n",
    "    else:\n",
    "        print(\"Invalid input type, Please enter a valid number\")\n",
    "    \n",
    "\n",
    "secrete=r.randint(1,num)\n",
    "count=1\n",
    "flag=True\n",
    "while flag:\n",
    "    guess=input(\"Guess the Number between 1 and \"+n+\" :\") \n",
    "    if guess.isdigit():\n",
    "        guess=int(guess)\n",
    "        if guess == secrete:\n",
    "            flag=False\n",
    "            print(\"Your Guess is Right ! You won the Game in \",count,\" attempt. \")\n",
    "        else:\n",
    "            print(\"You are Wrong! Try Again.\") \n",
    "            count+=1\n",
    "    else:\n",
    "        print(guess+\" is not a valid Number, Enter a valid Number. \")\n",
    "        \n",
    "    \n",
    "    "
   ]
  },
  {
   "cell_type": "code",
   "execution_count": null,
   "metadata": {},
   "outputs": [],
   "source": []
  },
  {
   "cell_type": "code",
   "execution_count": null,
   "metadata": {},
   "outputs": [],
   "source": []
  }
 ],
 "metadata": {
  "kernelspec": {
   "display_name": "Python 3",
   "language": "python",
   "name": "python3"
  },
  "language_info": {
   "codemirror_mode": {
    "name": "ipython",
    "version": 3
   },
   "file_extension": ".py",
   "mimetype": "text/x-python",
   "name": "python",
   "nbconvert_exporter": "python",
   "pygments_lexer": "ipython3",
   "version": "3.8.2"
  }
 },
 "nbformat": 4,
 "nbformat_minor": 4
}
