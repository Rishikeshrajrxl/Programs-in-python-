{
 "cells": [
  {
   "cell_type": "code",
   "execution_count": 8,
   "metadata": {},
   "outputs": [
    {
     "name": "stdout",
     "output_type": "stream",
     "text": [
      "Sender's Email Addresscodinglines1@gmail.com\n",
      "Receiver's Email Addressrishikeshrajrxl@gmail.com\n",
      "Enter your gmail password8986253054\n",
      "send successfully\n"
     ]
    },
    {
     "data": {
      "text/plain": [
       "(221, b'2.0.0 closing connection y3sm1996pjb.41 - gsmtp')"
      ]
     },
     "execution_count": 8,
     "metadata": {},
     "output_type": "execute_result"
    }
   ],
   "source": [
    "import smtplib as s\n",
    "ob=s.SMTP(\"smtp.gmail.com\",587)\n",
    "\n",
    "ob.starttls()\n",
    "sender_email=input(\"Sender's Email Address\")\n",
    "recevier_email=input(\"Receiver's Email Address\")\n",
    "password=int(input(\"Enter your gmail password\"))\n",
    "ob.login(sender_email,password)\n",
    "\n",
    "subject=\"I am Sending email using python program\"\n",
    "body=\"Hey this is Rishikesh raj , using my python program to send you a mail using gmail. \"\n",
    "\n",
    "message=\"Subject:{}\\n\\n{}\".format(subject,body)\n",
    "#print(message)\n",
    "\n",
    "\n",
    "ob.sendmail(sender_email,recevier_email,message)\n",
    "\n",
    "print(\"send successfully\")\n",
    "ob.quit()"
   ]
  },
  {
   "cell_type": "code",
   "execution_count": null,
   "metadata": {},
   "outputs": [],
   "source": [
    "print(\"dfd\")"
   ]
  }
 ],
 "metadata": {
  "kernelspec": {
   "display_name": "Python 3",
   "language": "python",
   "name": "python3"
  },
  "language_info": {
   "codemirror_mode": {
    "name": "ipython",
    "version": 3
   },
   "file_extension": ".py",
   "mimetype": "text/x-python",
   "name": "python",
   "nbconvert_exporter": "python",
   "pygments_lexer": "ipython3",
   "version": "3.8.2"
  }
 },
 "nbformat": 4,
 "nbformat_minor": 4
}
